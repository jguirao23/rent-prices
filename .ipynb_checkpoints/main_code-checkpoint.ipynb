{
 "cells": [
  {
   "cell_type": "code",
   "execution_count": null,
   "id": "82d5870d",
   "metadata": {},
   "outputs": [],
   "source": [
    "import requests\n",
    "import pandas as pd\n",
    "import json\n",
    "import base64\n",
    "import numpy as np\n",
    "import os\n",
    "from dotenv import load_dotenv, find_dotenv"
   ]
  },
  {
   "cell_type": "markdown",
   "id": "db0fdd67",
   "metadata": {},
   "source": [
    "## Obtaining data"
   ]
  },
  {
   "cell_type": "markdown",
   "id": "9855ae3e",
   "metadata": {},
   "source": [
    "### Requesting a Bearer token for OAuth authentication"
   ]
  },
  {
   "cell_type": "code",
   "execution_count": null,
   "id": "bb7176bd",
   "metadata": {},
   "outputs": [],
   "source": [
    "def get_oauth_token(): \n",
    "\n",
    "    url = \"https://api.idealista.com/oauth/token\"    \n",
    "\n",
    "    load_dotenv(find_dotenv())\n",
    "    apikey= os.getenv('API_KEY')\n",
    "    secret= os.getenv('API_SECRET')\n",
    "    apikey_secret = apikey + ':' + secret\n",
    "    auth = str(base64.b64encode(bytes(apikey_secret, 'utf-8')))[2:][:-1]\n",
    "\n",
    "    headers = {'Authorization' : 'Basic ' + auth,\n",
    "               'Content-Type': \"application/x-www-form-urlencoded;charset=UTF-8\"}\n",
    "    params = {\"grant_type\": \"client_credentials\", \"scope\": \"read\"}\n",
    "    content = requests.post(url,headers = headers, params=params)\n",
    "    bearer_token = json.loads(content.text)['access_token']\n",
    "\n",
    "    return bearer_token"
   ]
  },
  {
   "cell_type": "code",
   "execution_count": null,
   "id": "a63f5bcc",
   "metadata": {},
   "outputs": [],
   "source": [
    "response = get_oauth_token()"
   ]
  },
  {
   "cell_type": "markdown",
   "id": "f5dcfd7c",
   "metadata": {},
   "source": [
    "### Calling the API"
   ]
  },
  {
   "cell_type": "code",
   "execution_count": null,
   "id": "20f30817",
   "metadata": {},
   "outputs": [],
   "source": [
    "def api_call(token, URL):  \n",
    "    headers = {'Content-Type': 'Content-Type: multipart/form-data;', 'Authorization' : 'Bearer ' + token}\n",
    "    content = requests.post(url, headers = headers)\n",
    "    result = json.loads(content.text)\n",
    "\n",
    "    return result"
   ]
  },
  {
   "cell_type": "code",
   "execution_count": null,
   "id": "c43194fd",
   "metadata": {},
   "outputs": [],
   "source": [
    "# Parameters for the url\n",
    "country = \"es\"\n",
    "operation = \"rent\"\n",
    "property_type = \"homes\"\n",
    "center = \"40.45297615990258,-3.688455308753192\" # latitude, longitude of Santiago Bernabeu as a reference\n",
    "locale = \"en\"\n",
    "distance = \"6000\"   # distance to center, in meters (ratio)\n",
    "max_items = \"50\"   \n",
    "\n",
    "# Creating an empty dataframe where we will store the results\n",
    "houses_df = pd.DataFrame()\n",
    "\n",
    "# Creating the url\n",
    "for i in range(1, 2):\n",
    "    url = ('https://api.idealista.com/3.5/'+country+'/search?operation='+operation+\"&locale=\"+locale+\n",
    "           '&maxItems='+max_items+\n",
    "           '&center='+center+\n",
    "           '&distance='+distance+\n",
    "           '&propertyType='+property_type+\n",
    "           '&numPage='+str(i))\n",
    "    a = api_call(get_oauth_token(), url)\n",
    "    df = pd.DataFrame.from_dict(a['elementList'])\n",
    "    houses_df = pd.concat([houses_df,df])"
   ]
  },
  {
   "cell_type": "code",
   "execution_count": null,
   "id": "1e67627e",
   "metadata": {},
   "outputs": [],
   "source": [
    "houses_df.to_csv('houses.csv')"
   ]
  }
 ],
 "metadata": {
  "kernelspec": {
   "display_name": "Python 3 (ipykernel)",
   "language": "python",
   "name": "python3"
  },
  "language_info": {
   "codemirror_mode": {
    "name": "ipython",
    "version": 3
   },
   "file_extension": ".py",
   "mimetype": "text/x-python",
   "name": "python",
   "nbconvert_exporter": "python",
   "pygments_lexer": "ipython3",
   "version": "3.10.9"
  }
 },
 "nbformat": 4,
 "nbformat_minor": 5
}
